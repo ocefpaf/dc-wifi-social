{
 "cells": [
  {
   "cell_type": "code",
   "execution_count": 1,
   "metadata": {},
   "outputs": [],
   "source": [
    "import ipyleaflet as ipyl"
   ]
  },
  {
   "cell_type": "code",
   "execution_count": 34,
   "metadata": {},
   "outputs": [
    {
     "data": {
      "application/vnd.jupyter.widget-view+json": {
       "model_id": "a822f0cd48b14715b6612b74043ef625",
       "version_major": 2,
       "version_minor": 0
      },
      "text/html": [
       "<p>Failed to display Jupyter Widget of type <code>Map</code>.</p>\n",
       "<p>\n",
       "  If you're reading this message in Jupyter Notebook or JupyterLab, it may mean\n",
       "  that the widgets JavaScript is still loading. If this message persists, it\n",
       "  likely means that the widgets JavaScript library is either not installed or\n",
       "  not enabled. See the <a href=\"https://ipywidgets.readthedocs.io/en/stable/user_install.html\">Jupyter\n",
       "  Widgets Documentation</a> for setup instructions.\n",
       "</p>\n",
       "<p>\n",
       "  If you're reading this message in another notebook frontend (for example, a static\n",
       "  rendering on GitHub or <a href=\"https://nbviewer.jupyter.org/\">NBViewer</a>),\n",
       "  it may mean that your frontend doesn't currently support widgets.\n",
       "</p>\n"
      ],
      "text/plain": [
       "Map(center=[38.9, -77.05], layers=(TileLayer(attribution='Map data (c) <a href=\"https://openstreetmap.org\">OpenStreetMap</a> contributors', options=['attribution', 'detect_retina', 'max_zoom', 'min_zoom', 'opacity', 'tile_size'], url='https://{s}.tile.openstreetmap.org/{z}/{x}/{y}.png'), GeoJSON(data={'type': 'FeatureCollection', 'features': [{'type': 'Feature', 'geometry': {'type': 'Point', 'coordinates': [-77.039882, 38.898321]}, 'properties': {'marker-symbol': 'bus', 'name': 'The Exchange', 'address': '1719 G St NW'}}, {'type': 'Feature', 'geometry': {'type': 'Point', 'coordinates': [-77.038193, 38.901345]}, 'properties': {'marker-symbol': 'bus', 'marker-color': '#be3737', 'name': 'Blackfin', 'address': '1620 I St NW'}}, {'type': 'Feature', 'geometry': {'type': 'Point', 'coordinates': [-77.03195, 38.907826]}, 'properties': {'marker-symbol': 'bar', 'marker-color': '#288a28', 'name': 'Churchkey', 'address': '1337 14th St NW', 'note': 'Ask the bartender for the password'}}, {'type': 'Feature', 'geometry': {'type': 'Point', 'coordinates': [-77.027646, 38.900769]}, 'properties': {'marker-symbol': 'bar', 'name': 'Capitol City Brewing Company', 'address': '1100 New York Ave NW', 'note': 'Ask the bartender for the password'}}, {'type': 'Feature', 'geometry': {'type': 'Point', 'coordinates': [-77.036554, 38.900201]}, 'properties': {'marker-symbol': 'bar', 'name': 'Off The Record', 'address': '800 16th St NW'}}, {'type': 'Feature', 'geometry': {'type': 'Point', 'coordinates': [-77.071309, 38.919986]}, 'properties': {'marker-symbol': 'bar', 'name': 'breadsoda', 'address': '2233 Wisconsin Ave NW'}}, {'type': 'Feature', 'geometry': {'type': 'Point', 'coordinates': [-77.042084, 38.906459]}, 'properties': {'marker-symbol': 'bar', 'name': \"St. Arnold's on Jefferson\", 'address': '1827 Jefferson Pl NW'}}, {'type': 'Feature', 'geometry': {'type': 'Point', 'coordinates': [-77.02862, 38.931821]}, 'properties': {'marker-symbol': 'bar', 'name': 'Meridian Pint', 'address': '3400 11th St NW'}}, {'type': 'Feature', 'geometry': {'type': 'Point', 'coordinates': [-77.070275, 38.906094]}, 'properties': {'marker-symbol': 'bar', 'name': 'The Tombs', 'address': '1226 36th St NW'}}]})), layout=Layout(align_self='stretch', height='400px'), options=['attribution_control', 'bounce_at_zoom_limits', 'box_zoom', 'center', 'close_popup_on_click', 'double_click_zoom', 'dragging', 'inertia', 'inertia_deceleration', 'inertia_max_speed', 'keyboard', 'keyboard_pan_offset', 'keyboard_zoom_offset', 'max_zoom', 'min_zoom', 'scroll_wheel_zoom', 'tap', 'tap_tolerance', 'touch_zoom', 'world_copy_jump', 'zoom', 'zoom_animation_threshold', 'zoom_control', 'zoom_start'])"
      ]
     },
     "metadata": {},
     "output_type": "display_data"
    }
   ],
   "source": [
    "import urllib.request\n",
    "import json\n",
    "url = 'https://raw.githubusercontent.com/rsignell-usgs/dc-wifi-social/master/bars.geojson'\n",
    "req = urllib.request.Request(url)\n",
    "r = urllib.request.urlopen(req).read()\n",
    "data = json.loads(r.decode('utf-8'))\n",
    "\n",
    "center = [38.9, -77.05]\n",
    "zoom = 12\n",
    "\n",
    "map = ipyl.Map(center=center, zoom=zoom)\n",
    "feature_layer = ipyl.GeoJSON(data=data)\n",
    "\n",
    "map.layers = [map.layers[0], feature_layer]\n",
    "\n",
    "map"
   ]
  }
 ],
 "metadata": {
  "kernelspec": {
   "display_name": "Python 3",
   "language": "python",
   "name": "python3"
  },
  "language_info": {
   "codemirror_mode": {
    "name": "ipython",
    "version": 3
   },
   "file_extension": ".py",
   "mimetype": "text/x-python",
   "name": "python",
   "nbconvert_exporter": "python",
   "pygments_lexer": "ipython3",
   "version": "3.6.3"
  }
 },
 "nbformat": 4,
 "nbformat_minor": 2
}
